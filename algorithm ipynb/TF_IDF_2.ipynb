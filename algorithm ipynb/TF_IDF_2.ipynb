{
 "cells": [
  {
   "cell_type": "code",
   "execution_count": 10,
   "id": "01eba611",
   "metadata": {},
   "outputs": [],
   "source": [
    "import pandas as pd\n",
    "from sklearn.feature_extraction.text import TfidfVectorizer\n",
    "from sklearn.metrics.pairwise import linear_kernel\n",
    "import numpy as np\n",
    "reviews = pd.read_csv(\"https://raw.githubusercontent.com/alyang666/DS50-projet/main/datastes/steam_reviews_cum.csv\")"
   ]
  },
  {
   "cell_type": "code",
   "execution_count": 11,
   "id": "1857606e",
   "metadata": {},
   "outputs": [],
   "source": [
    "cosine_similarities=pd.read_csv(\"D:\\Code\\DS50\\datasets\\cosine_similarities.csv\",index_col=0)"
   ]
  },
  {
   "cell_type": "code",
   "execution_count": 12,
   "id": "0917dbb5",
   "metadata": {},
   "outputs": [],
   "source": [
    "cosine_similarities=cosine_similarities.values"
   ]
  },
  {
   "cell_type": "code",
   "execution_count": 13,
   "id": "2e507d5c",
   "metadata": {},
   "outputs": [],
   "source": [
    "def item(id):  \n",
    "  return reviews.loc[reviews['app_id'] == id]['app_name'].tolist()[0]  #itemid to name\n",
    "#Recommander les jeux les plus similaires\n",
    "def recommend(item_id, num):\n",
    "    print(\"Recommending \" + str(num) + \" products similar to \" + item(item_id) + \"...\")   \n",
    "    print(\"-------\")\n",
    "    idx = reviews[reviews[\"app_id\"]== item_id].index.tolist()[0] #itemid to index\n",
    "    similar_indices = cosine_similarities[idx].argsort()[::-1]  #sort the array in ascending order and return the index\n",
    "    for i in range(num): \n",
    "       print(\"Recommended: \" +  format(reviews[\"app_id\"][similar_indices[i+1]])+ \" (score:\" +      str(cosine_similarities[idx][similar_indices[i+1]]) + \")\")"
   ]
  },
  {
   "cell_type": "code",
   "execution_count": 14,
   "id": "ba0f82f3",
   "metadata": {},
   "outputs": [
    {
     "name": "stdout",
     "output_type": "stream",
     "text": [
      "Recommending 20 products similar to Counter-Strike...\n",
      "-------\n",
      "Recommended: 13540 (score:0.062018263544326)\n",
      "Recommended: 41050 (score:0.0545333789734396)\n",
      "Recommended: 474790 (score:0.0539646557438581)\n",
      "Recommended: 229870 (score:0.0539174324770281)\n",
      "Recommended: 202990 (score:0.0510143594725309)\n",
      "Recommended: 32770 (score:0.0504094244764827)\n",
      "Recommended: 32680 (score:0.0482705316099532)\n",
      "Recommended: 7010 (score:0.0469326417257447)\n",
      "Recommended: 515310 (score:0.0457186504574369)\n",
      "Recommended: 13240 (score:0.0447421695651905)\n",
      "Recommended: 366960 (score:0.0425130525096549)\n",
      "Recommended: 38410 (score:0.0423162957961885)\n",
      "Recommended: 17300 (score:0.0414826860718294)\n",
      "Recommended: 25500 (score:0.0396378330305049)\n",
      "Recommended: 385800 (score:0.039114718459576)\n",
      "Recommended: 227920 (score:0.0388434196348126)\n",
      "Recommended: 3410 (score:0.0385978896137884)\n",
      "Recommended: 236130 (score:0.0380536788956659)\n",
      "Recommended: 411080 (score:0.0373128405556405)\n",
      "Recommended: 15170 (score:0.0369556415007364)\n"
     ]
    }
   ],
   "source": [
    "recommend(item_id=10, num=20)"
   ]
  },
  {
   "cell_type": "code",
   "execution_count": null,
   "id": "a928f7c1",
   "metadata": {},
   "outputs": [],
   "source": []
  },
  {
   "cell_type": "code",
   "execution_count": null,
   "id": "74690c29",
   "metadata": {},
   "outputs": [],
   "source": []
  }
 ],
 "metadata": {
  "kernelspec": {
   "display_name": "Python 3 (ipykernel)",
   "language": "python",
   "name": "python3"
  },
  "language_info": {
   "codemirror_mode": {
    "name": "ipython",
    "version": 3
   },
   "file_extension": ".py",
   "mimetype": "text/x-python",
   "name": "python",
   "nbconvert_exporter": "python",
   "pygments_lexer": "ipython3",
   "version": "3.9.12"
  }
 },
 "nbformat": 4,
 "nbformat_minor": 5
}
