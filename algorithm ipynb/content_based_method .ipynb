{
 "cells": [
  {
   "cell_type": "code",
   "execution_count": 10,
   "metadata": {
    "id": "5kkDV7tyZxwi"
   },
   "outputs": [],
   "source": [
    "import pandas as pd\n",
    "import numpy as np\n",
    "import heapq\n"
   ]
  },
  {
   "cell_type": "code",
   "execution_count": 11,
   "metadata": {
    "id": "x3FIB0d8Zxwl",
    "outputId": "bf611713-7479-4d15-9f15-b3002dde4841"
   },
   "outputs": [],
   "source": [
    "steam = pd.read_csv(\"https://github.com/alyang666/DS50-projet/blob/main/datastes/steam-200k.csv\")"
   ]
  },
  {
   "cell_type": "code",
   "execution_count": null,
   "metadata": {},
   "outputs": [],
   "source": []
  },
  {
   "cell_type": "code",
   "execution_count": 12,
   "metadata": {},
   "outputs": [],
   "source": [
    "tags=[None]*len(steam)"
   ]
  },
  {
   "cell_type": "code",
   "execution_count": 13,
   "metadata": {
    "id": "-AvmNsM_Zxwm"
   },
   "outputs": [
    {
     "data": {
      "text/plain": [
       "17282"
      ]
     },
     "execution_count": 13,
     "metadata": {},
     "output_type": "execute_result"
    }
   ],
   "source": [
    "len(steam)"
   ]
  },
  {
   "cell_type": "code",
   "execution_count": 14,
   "metadata": {
    "id": "jPyyPLNTZxwm",
    "scrolled": true
   },
   "outputs": [
    {
     "data": {
      "text/html": [
       "<div>\n",
       "<style scoped>\n",
       "    .dataframe tbody tr th:only-of-type {\n",
       "        vertical-align: middle;\n",
       "    }\n",
       "\n",
       "    .dataframe tbody tr th {\n",
       "        vertical-align: top;\n",
       "    }\n",
       "\n",
       "    .dataframe thead th {\n",
       "        text-align: right;\n",
       "    }\n",
       "</style>\n",
       "<table border=\"1\" class=\"dataframe\">\n",
       "  <thead>\n",
       "    <tr style=\"text-align: right;\">\n",
       "      <th></th>\n",
       "      <th>url</th>\n",
       "      <th>types</th>\n",
       "      <th>app_id</th>\n",
       "      <th>name</th>\n",
       "      <th>popular_tags</th>\n",
       "    </tr>\n",
       "  </thead>\n",
       "  <tbody>\n",
       "    <tr>\n",
       "      <th>0</th>\n",
       "      <td>https://store.steampowered.com/app/528550/Drun...</td>\n",
       "      <td>app</td>\n",
       "      <td>528550.0</td>\n",
       "      <td>Drunkn_Bar_Fight</td>\n",
       "      <td>Early Access,Action,Early Access,Indie,VR,Funn...</td>\n",
       "    </tr>\n",
       "    <tr>\n",
       "      <th>1</th>\n",
       "      <td>https://store.steampowered.com/app/281610/Home...</td>\n",
       "      <td>app</td>\n",
       "      <td>281610.0</td>\n",
       "      <td>Homeworld_Deserts_of_Kharak</td>\n",
       "      <td>Strategy,RTS,Sci-fi,Multiplayer,Story Rich,Gre...</td>\n",
       "    </tr>\n",
       "    <tr>\n",
       "      <th>2</th>\n",
       "      <td>https://store.steampowered.com/app/480650/YuGi...</td>\n",
       "      <td>app</td>\n",
       "      <td>480650.0</td>\n",
       "      <td>YuGiOh_Legacy_of_the_Duelist</td>\n",
       "      <td>Card Game,Anime,Trading Card Game,Multiplayer,...</td>\n",
       "    </tr>\n",
       "    <tr>\n",
       "      <th>3</th>\n",
       "      <td>https://store.steampowered.com/app/383870/Fire...</td>\n",
       "      <td>app</td>\n",
       "      <td>383870.0</td>\n",
       "      <td>Firewatch</td>\n",
       "      <td>Atmospheric,Adventure,Story Rich,Walking Simul...</td>\n",
       "    </tr>\n",
       "    <tr>\n",
       "      <th>4</th>\n",
       "      <td>https://store.steampowered.com/app/371660/Far_...</td>\n",
       "      <td>app</td>\n",
       "      <td>371660.0</td>\n",
       "      <td>Far_Cry_Primal</td>\n",
       "      <td>Open World,Survival,Action,Adventure,Hunting,F...</td>\n",
       "    </tr>\n",
       "    <tr>\n",
       "      <th>...</th>\n",
       "      <td>...</td>\n",
       "      <td>...</td>\n",
       "      <td>...</td>\n",
       "      <td>...</td>\n",
       "      <td>...</td>\n",
       "    </tr>\n",
       "    <tr>\n",
       "      <th>17277</th>\n",
       "      <td>https://store.steampowered.com/app/899836/Rock...</td>\n",
       "      <td>app</td>\n",
       "      <td>899836.0</td>\n",
       "      <td>Rocksmith_2014_Edition__Remastered__Sabaton__G...</td>\n",
       "      <td>Single-player,Shared/Split Screen,Downloadable...</td>\n",
       "    </tr>\n",
       "    <tr>\n",
       "      <th>17278</th>\n",
       "      <td>https://store.steampowered.com/app/899832/Rock...</td>\n",
       "      <td>app</td>\n",
       "      <td>899832.0</td>\n",
       "      <td>Rocksmith_2014_Edition__Remastered__Stone_Temp...</td>\n",
       "      <td>Single-player,Shared/Split Screen,Downloadable...</td>\n",
       "    </tr>\n",
       "    <tr>\n",
       "      <th>17279</th>\n",
       "      <td>https://store.steampowered.com/app/906840/Fant...</td>\n",
       "      <td>app</td>\n",
       "      <td>906840.0</td>\n",
       "      <td>Fantasy_Grounds__Quests_of_Doom_4_A_Midnight_C...</td>\n",
       "      <td>RPG,Indie,Strategy,Software,Turn-Based,Fantasy...</td>\n",
       "    </tr>\n",
       "    <tr>\n",
       "      <th>17280</th>\n",
       "      <td>https://store.steampowered.com/app/906635/Mega...</td>\n",
       "      <td>app</td>\n",
       "      <td>906635.0</td>\n",
       "      <td>Mega_Man_X5_Sound_Collection</td>\n",
       "      <td>Action</td>\n",
       "    </tr>\n",
       "    <tr>\n",
       "      <th>17281</th>\n",
       "      <td>https://store.steampowered.com/app/908000/Stor...</td>\n",
       "      <td>app</td>\n",
       "      <td>908000.0</td>\n",
       "      <td>Stories_In_Stone</td>\n",
       "      <td>RPG,Adventure</td>\n",
       "    </tr>\n",
       "  </tbody>\n",
       "</table>\n",
       "<p>17282 rows × 5 columns</p>\n",
       "</div>"
      ],
      "text/plain": [
       "                                                     url types    app_id  \\\n",
       "0      https://store.steampowered.com/app/528550/Drun...   app  528550.0   \n",
       "1      https://store.steampowered.com/app/281610/Home...   app  281610.0   \n",
       "2      https://store.steampowered.com/app/480650/YuGi...   app  480650.0   \n",
       "3      https://store.steampowered.com/app/383870/Fire...   app  383870.0   \n",
       "4      https://store.steampowered.com/app/371660/Far_...   app  371660.0   \n",
       "...                                                  ...   ...       ...   \n",
       "17277  https://store.steampowered.com/app/899836/Rock...   app  899836.0   \n",
       "17278  https://store.steampowered.com/app/899832/Rock...   app  899832.0   \n",
       "17279  https://store.steampowered.com/app/906840/Fant...   app  906840.0   \n",
       "17280  https://store.steampowered.com/app/906635/Mega...   app  906635.0   \n",
       "17281  https://store.steampowered.com/app/908000/Stor...   app  908000.0   \n",
       "\n",
       "                                                    name  \\\n",
       "0                                       Drunkn_Bar_Fight   \n",
       "1                            Homeworld_Deserts_of_Kharak   \n",
       "2                           YuGiOh_Legacy_of_the_Duelist   \n",
       "3                                              Firewatch   \n",
       "4                                         Far_Cry_Primal   \n",
       "...                                                  ...   \n",
       "17277  Rocksmith_2014_Edition__Remastered__Sabaton__G...   \n",
       "17278  Rocksmith_2014_Edition__Remastered__Stone_Temp...   \n",
       "17279  Fantasy_Grounds__Quests_of_Doom_4_A_Midnight_C...   \n",
       "17280                       Mega_Man_X5_Sound_Collection   \n",
       "17281                                   Stories_In_Stone   \n",
       "\n",
       "                                            popular_tags  \n",
       "0      Early Access,Action,Early Access,Indie,VR,Funn...  \n",
       "1      Strategy,RTS,Sci-fi,Multiplayer,Story Rich,Gre...  \n",
       "2      Card Game,Anime,Trading Card Game,Multiplayer,...  \n",
       "3      Atmospheric,Adventure,Story Rich,Walking Simul...  \n",
       "4      Open World,Survival,Action,Adventure,Hunting,F...  \n",
       "...                                                  ...  \n",
       "17277  Single-player,Shared/Split Screen,Downloadable...  \n",
       "17278  Single-player,Shared/Split Screen,Downloadable...  \n",
       "17279  RPG,Indie,Strategy,Software,Turn-Based,Fantasy...  \n",
       "17280                                             Action  \n",
       "17281                                      RPG,Adventure  \n",
       "\n",
       "[17282 rows x 5 columns]"
      ]
     },
     "execution_count": 14,
     "metadata": {},
     "output_type": "execute_result"
    }
   ],
   "source": [
    "steam\n"
   ]
  },
  {
   "cell_type": "code",
   "execution_count": null,
   "metadata": {},
   "outputs": [],
   "source": []
  },
  {
   "cell_type": "code",
   "execution_count": 15,
   "metadata": {
    "id": "NlK5Y0C6Zxwn"
   },
   "outputs": [],
   "source": [
    "for indexs in steam.index:\n",
    "    str = steam.loc[indexs,\"popular_tags\"]\n",
    "    if isinstance(str,float):\n",
    "        #print(str)\n",
    "        steam = steam.drop(index = indexs)\n",
    "        indexs = indexs -1\n",
    "    else:\n",
    "        str = str.split(',')\n",
    "        tags[indexs] = str"
   ]
  },
  {
   "cell_type": "code",
   "execution_count": 46,
   "metadata": {},
   "outputs": [],
   "source": [
    "def name2id(name):\n",
    "    id = steam[steam[\"name\"]== name].app_id.tolist()[0]\n",
    "    return id"
   ]
  },
  {
   "cell_type": "code",
   "execution_count": 51,
   "metadata": {
    "id": "62q8iguKZxwn"
   },
   "outputs": [],
   "source": [
    "def game_id2idx(game_id):\n",
    "    idx = steam[steam[\"app_id\"]== game_id].index.tolist()[0]\n",
    "    return idx"
   ]
  },
  {
   "cell_type": "code",
   "execution_count": 52,
   "metadata": {
    "id": "DLFms82kZxwo"
   },
   "outputs": [],
   "source": [
    "#Calculez la similarité d'autres jeux avec ce jeu.\n",
    "#Un point pour une étiquette identique\n",
    "def get_score(game_id):\n",
    "    game_index=game_id2idx(game_id)\n",
    "    score = [0]*17282\n",
    "    for i in range(len(tags[game_index])):\n",
    "        for indexs in steam.index:\n",
    "            if(indexs != game_index):\n",
    "                for j in range(len(tags[indexs])):\n",
    "                    if tags[game_index][i] == tags[indexs][j]:\n",
    "                        score[indexs] = score[indexs]+1\n",
    "    return score"
   ]
  },
  {
   "cell_type": "code",
   "execution_count": 53,
   "metadata": {
    "id": "mjjaY3CMZxwo"
   },
   "outputs": [],
   "source": [
    "#Trouvez le nom du jeu et de l'indice les plus élevés.\n",
    "def get_index(game_id,num):\n",
    "    score=get_score(game_id)\n",
    "    re1 = heapq.nlargest(num, score)\n",
    "    #print(re1)\n",
    "    re2=[0]*num\n",
    "    for i in range(len(re1)):    \n",
    "        re2[i] = score.index(re1[i])\n",
    "        if i>0 and re2[i] == re2[i-1]:\n",
    "            score[re2[i]]=0\n",
    "            re2[i] = score.index(re1[i])\n",
    "    #print(re2)  \n",
    "    return re1,re2"
   ]
  },
  {
   "cell_type": "code",
   "execution_count": 56,
   "metadata": {
    "id": "9nZDKTPFZxwp"
   },
   "outputs": [],
   "source": [
    "def recommend(game_id,num):\n",
    "    re1,re2=get_index(game_id,num)\n",
    "    #print(\"Recommended games:\")\n",
    "    id_list = []\n",
    "    for i in range(len(re1)):\n",
    "        game_id=steam.loc[re2[i],\"app_id\"]\n",
    "        id_list.append(int(game_id))\n",
    "        #print(\"<{0}> with score:{1}\\n\".format(name,re1[i]))\n",
    "    print(id_list)"
   ]
  },
  {
   "cell_type": "code",
   "execution_count": 57,
   "metadata": {
    "id": "kHQEY67-Zxwp",
    "outputId": "50c868fe-b1ce-48c2-9968-534d7db4e8b2",
    "scrolled": true
   },
   "outputs": [
    {
     "name": "stdout",
     "output_type": "stream",
     "text": [
      "[12100, 12200, 9480, 28000, 40990]\n"
     ]
    }
   ],
   "source": [
    "output = recommend(12120, 5)\n",
    "output"
   ]
  },
  {
   "cell_type": "code",
   "execution_count": 50,
   "metadata": {
    "id": "Z-dHzo-RZxwp"
   },
   "outputs": [
    {
     "name": "stdout",
     "output_type": "stream",
     "text": [
      "[12100, 12200, 9480, 28000, 40990]\n"
     ]
    }
   ],
   "source": []
  },
  {
   "cell_type": "code",
   "execution_count": null,
   "metadata": {},
   "outputs": [],
   "source": []
  },
  {
   "cell_type": "code",
   "execution_count": 74,
   "metadata": {},
   "outputs": [],
   "source": []
  },
  {
   "cell_type": "code",
   "execution_count": null,
   "metadata": {},
   "outputs": [],
   "source": []
  }
 ],
 "metadata": {
  "colab": {
   "name": "content_based_method.ipynb",
   "provenance": []
  },
  "kernelspec": {
   "display_name": "Python 3 (ipykernel)",
   "language": "python",
   "name": "python3"
  },
  "language_info": {
   "codemirror_mode": {
    "name": "ipython",
    "version": 3
   },
   "file_extension": ".py",
   "mimetype": "text/x-python",
   "name": "python",
   "nbconvert_exporter": "python",
   "pygments_lexer": "ipython3",
   "version": "3.9.12"
  }
 },
 "nbformat": 4,
 "nbformat_minor": 1
}
