{
 "cells": [
  {
   "cell_type": "code",
   "execution_count": 56,
   "metadata": {},
   "outputs": [],
   "source": [
    "import pandas as pd\n",
    "from sklearn.feature_extraction.text import TfidfVectorizer\n",
    "from sklearn.metrics.pairwise import linear_kernel\n",
    "import numpy as np\n",
    "reviews = pd.read_csv(\"D:\\ds54\\projet\\data\\datasets_cum.csv\")"
   ]
  },
  {
   "cell_type": "code",
   "execution_count": 57,
   "metadata": {
    "scrolled": false
   },
   "outputs": [
    {
     "data": {
      "text/html": [
       "<div>\n",
       "<style scoped>\n",
       "    .dataframe tbody tr th:only-of-type {\n",
       "        vertical-align: middle;\n",
       "    }\n",
       "\n",
       "    .dataframe tbody tr th {\n",
       "        vertical-align: top;\n",
       "    }\n",
       "\n",
       "    .dataframe thead th {\n",
       "        text-align: right;\n",
       "    }\n",
       "</style>\n",
       "<table border=\"1\" class=\"dataframe\">\n",
       "  <thead>\n",
       "    <tr style=\"text-align: right;\">\n",
       "      <th></th>\n",
       "      <th>app_id</th>\n",
       "      <th>app_name</th>\n",
       "      <th>review_cum</th>\n",
       "    </tr>\n",
       "  </thead>\n",
       "  <tbody>\n",
       "    <tr>\n",
       "      <th>0</th>\n",
       "      <td>10</td>\n",
       "      <td>Counter-Strike</td>\n",
       "      <td>Ruined my life. Only Counter-Strike game that ...</td>\n",
       "    </tr>\n",
       "    <tr>\n",
       "      <th>1</th>\n",
       "      <td>10090</td>\n",
       "      <td>Call of Duty: World at War</td>\n",
       "      <td>great game better than any other cod ive playe...</td>\n",
       "    </tr>\n",
       "    <tr>\n",
       "      <th>2</th>\n",
       "      <td>10100</td>\n",
       "      <td>King's Quest Collection</td>\n",
       "      <td>'All right! I'm going to play through them all...</td>\n",
       "    </tr>\n",
       "    <tr>\n",
       "      <th>3</th>\n",
       "      <td>10110</td>\n",
       "      <td>Space Quest Collection</td>\n",
       "      <td>Great games. Too bad they're delivered via a m...</td>\n",
       "    </tr>\n",
       "    <tr>\n",
       "      <th>4</th>\n",
       "      <td>10150</td>\n",
       "      <td>Prototype</td>\n",
       "      <td>This is one of those games that makes you feel...</td>\n",
       "    </tr>\n",
       "    <tr>\n",
       "      <th>5</th>\n",
       "      <td>10180</td>\n",
       "      <td>Call of Duty: Modern Warfare 2</td>\n",
       "      <td>this game is the best call of duty ever Don't ...</td>\n",
       "    </tr>\n",
       "    <tr>\n",
       "      <th>6</th>\n",
       "      <td>10220</td>\n",
       "      <td>Postal 3</td>\n",
       "      <td>Awesome weapons and gore!</td>\n",
       "    </tr>\n",
       "    <tr>\n",
       "      <th>7</th>\n",
       "      <td>10230</td>\n",
       "      <td>Dead Mountaineer's Hotel</td>\n",
       "      <td>Appallingly awful - spent ages setting things ...</td>\n",
       "    </tr>\n",
       "    <tr>\n",
       "      <th>8</th>\n",
       "      <td>102500</td>\n",
       "      <td>Kingdoms of Amalur: Reckoning?</td>\n",
       "      <td>Awesome game! pick this up if you love long lo...</td>\n",
       "    </tr>\n",
       "    <tr>\n",
       "      <th>9</th>\n",
       "      <td>102600</td>\n",
       "      <td>Orcs Must Die!</td>\n",
       "      <td>A fun active tower defence game, each level un...</td>\n",
       "    </tr>\n",
       "    <tr>\n",
       "      <th>10</th>\n",
       "      <td>102700</td>\n",
       "      <td>A.V.A. Alliance of Valiant Arms?</td>\n",
       "      <td>the best F2PFPS i have ever played!!! the game...</td>\n",
       "    </tr>\n",
       "    <tr>\n",
       "      <th>11</th>\n",
       "      <td>104700</td>\n",
       "      <td>Super Monday Night Combat</td>\n",
       "      <td>I installed it. When I tried to register keeps...</td>\n",
       "    </tr>\n",
       "  </tbody>\n",
       "</table>\n",
       "</div>"
      ],
      "text/plain": [
       "    app_id                          app_name  \\\n",
       "0       10                    Counter-Strike   \n",
       "1    10090        Call of Duty: World at War   \n",
       "2    10100           King's Quest Collection   \n",
       "3    10110            Space Quest Collection   \n",
       "4    10150                         Prototype   \n",
       "5    10180    Call of Duty: Modern Warfare 2   \n",
       "6    10220                          Postal 3   \n",
       "7    10230          Dead Mountaineer's Hotel   \n",
       "8   102500    Kingdoms of Amalur: Reckoning?   \n",
       "9   102600                    Orcs Must Die!   \n",
       "10  102700  A.V.A. Alliance of Valiant Arms?   \n",
       "11  104700         Super Monday Night Combat   \n",
       "\n",
       "                                           review_cum  \n",
       "0   Ruined my life. Only Counter-Strike game that ...  \n",
       "1   great game better than any other cod ive playe...  \n",
       "2   'All right! I'm going to play through them all...  \n",
       "3   Great games. Too bad they're delivered via a m...  \n",
       "4   This is one of those games that makes you feel...  \n",
       "5   this game is the best call of duty ever Don't ...  \n",
       "6                           Awesome weapons and gore!  \n",
       "7   Appallingly awful - spent ages setting things ...  \n",
       "8   Awesome game! pick this up if you love long lo...  \n",
       "9   A fun active tower defence game, each level un...  \n",
       "10  the best F2PFPS i have ever played!!! the game...  \n",
       "11  I installed it. When I tried to register keeps...  "
      ]
     },
     "execution_count": 57,
     "metadata": {},
     "output_type": "execute_result"
    }
   ],
   "source": [
    "reviews"
   ]
  },
  {
   "cell_type": "code",
   "execution_count": null,
   "metadata": {},
   "outputs": [],
   "source": []
  },
  {
   "cell_type": "code",
   "execution_count": 58,
   "metadata": {},
   "outputs": [
    {
     "data": {
      "text/plain": [
       "'!\"#$%&\\'()*+,-./:;<=>?@[\\\\]^_`{|}~'"
      ]
     },
     "execution_count": 58,
     "metadata": {},
     "output_type": "execute_result"
    }
   ],
   "source": [
    "import string\n",
    "sp=string.punctuation\n",
    "sp"
   ]
  },
  {
   "cell_type": "code",
   "execution_count": 59,
   "metadata": {},
   "outputs": [
    {
     "data": {
      "text/html": [
       "<div>\n",
       "<style scoped>\n",
       "    .dataframe tbody tr th:only-of-type {\n",
       "        vertical-align: middle;\n",
       "    }\n",
       "\n",
       "    .dataframe tbody tr th {\n",
       "        vertical-align: top;\n",
       "    }\n",
       "\n",
       "    .dataframe thead th {\n",
       "        text-align: right;\n",
       "    }\n",
       "</style>\n",
       "<table border=\"1\" class=\"dataframe\">\n",
       "  <thead>\n",
       "    <tr style=\"text-align: right;\">\n",
       "      <th></th>\n",
       "      <th>app_id</th>\n",
       "      <th>app_name</th>\n",
       "      <th>review_cum</th>\n",
       "    </tr>\n",
       "  </thead>\n",
       "  <tbody>\n",
       "    <tr>\n",
       "      <th>0</th>\n",
       "      <td>10</td>\n",
       "      <td>Counter-Strike</td>\n",
       "      <td>ruined my life only counterstrike game that wa...</td>\n",
       "    </tr>\n",
       "    <tr>\n",
       "      <th>1</th>\n",
       "      <td>10090</td>\n",
       "      <td>Call of Duty: World at War</td>\n",
       "      <td>great game better than any other cod ive playe...</td>\n",
       "    </tr>\n",
       "    <tr>\n",
       "      <th>2</th>\n",
       "      <td>10100</td>\n",
       "      <td>King's Quest Collection</td>\n",
       "      <td>all right im going to play through them all in...</td>\n",
       "    </tr>\n",
       "    <tr>\n",
       "      <th>3</th>\n",
       "      <td>10110</td>\n",
       "      <td>Space Quest Collection</td>\n",
       "      <td>great games too bad theyre delivered via a mis...</td>\n",
       "    </tr>\n",
       "    <tr>\n",
       "      <th>4</th>\n",
       "      <td>10150</td>\n",
       "      <td>Prototype</td>\n",
       "      <td>this is one of those games that makes you feel...</td>\n",
       "    </tr>\n",
       "    <tr>\n",
       "      <th>5</th>\n",
       "      <td>10180</td>\n",
       "      <td>Call of Duty: Modern Warfare 2</td>\n",
       "      <td>this game is the best call of duty ever dont b...</td>\n",
       "    </tr>\n",
       "    <tr>\n",
       "      <th>6</th>\n",
       "      <td>10220</td>\n",
       "      <td>Postal 3</td>\n",
       "      <td>awesome weapons and gore</td>\n",
       "    </tr>\n",
       "    <tr>\n",
       "      <th>7</th>\n",
       "      <td>10230</td>\n",
       "      <td>Dead Mountaineer's Hotel</td>\n",
       "      <td>appallingly awful  spent ages setting things u...</td>\n",
       "    </tr>\n",
       "    <tr>\n",
       "      <th>8</th>\n",
       "      <td>102500</td>\n",
       "      <td>Kingdoms of Amalur: Reckoning?</td>\n",
       "      <td>awesome game pick this up if you love long lon...</td>\n",
       "    </tr>\n",
       "    <tr>\n",
       "      <th>9</th>\n",
       "      <td>102600</td>\n",
       "      <td>Orcs Must Die!</td>\n",
       "      <td>a fun active tower defence game each level unl...</td>\n",
       "    </tr>\n",
       "    <tr>\n",
       "      <th>10</th>\n",
       "      <td>102700</td>\n",
       "      <td>A.V.A. Alliance of Valiant Arms?</td>\n",
       "      <td>the best f2pfps i have ever played the game su...</td>\n",
       "    </tr>\n",
       "    <tr>\n",
       "      <th>11</th>\n",
       "      <td>104700</td>\n",
       "      <td>Super Monday Night Combat</td>\n",
       "      <td>i installed it when i tried to register keeps ...</td>\n",
       "    </tr>\n",
       "  </tbody>\n",
       "</table>\n",
       "</div>"
      ],
      "text/plain": [
       "    app_id                          app_name  \\\n",
       "0       10                    Counter-Strike   \n",
       "1    10090        Call of Duty: World at War   \n",
       "2    10100           King's Quest Collection   \n",
       "3    10110            Space Quest Collection   \n",
       "4    10150                         Prototype   \n",
       "5    10180    Call of Duty: Modern Warfare 2   \n",
       "6    10220                          Postal 3   \n",
       "7    10230          Dead Mountaineer's Hotel   \n",
       "8   102500    Kingdoms of Amalur: Reckoning?   \n",
       "9   102600                    Orcs Must Die!   \n",
       "10  102700  A.V.A. Alliance of Valiant Arms?   \n",
       "11  104700         Super Monday Night Combat   \n",
       "\n",
       "                                           review_cum  \n",
       "0   ruined my life only counterstrike game that wa...  \n",
       "1   great game better than any other cod ive playe...  \n",
       "2   all right im going to play through them all in...  \n",
       "3   great games too bad theyre delivered via a mis...  \n",
       "4   this is one of those games that makes you feel...  \n",
       "5   this game is the best call of duty ever dont b...  \n",
       "6                            awesome weapons and gore  \n",
       "7   appallingly awful  spent ages setting things u...  \n",
       "8   awesome game pick this up if you love long lon...  \n",
       "9   a fun active tower defence game each level unl...  \n",
       "10  the best f2pfps i have ever played the game su...  \n",
       "11  i installed it when i tried to register keeps ...  "
      ]
     },
     "execution_count": 59,
     "metadata": {},
     "output_type": "execute_result"
    }
   ],
   "source": [
    "reviews['review_cum']=reviews['review_cum'].str.lower()\n",
    "#suppression de la ponctuation\n",
    "reviews['review_cum']=reviews['review_cum'].str.translate(str.maketrans('', '', string.punctuation))\n",
    "#on copie la dataframe pour une utilisation ultérieure\n",
    "data=reviews.copy()\n",
    "data.head(15)"
   ]
  },
  {
   "cell_type": "code",
   "execution_count": 60,
   "metadata": {},
   "outputs": [],
   "source": [
    "import nltk\n",
    "from nltk.corpus import stopwords\n",
    "from nltk.tokenize import word_tokenize "
   ]
  },
  {
   "cell_type": "code",
   "execution_count": 61,
   "metadata": {},
   "outputs": [
    {
     "data": {
      "text/plain": [
       "0    [ruined, life, counterstrike, game, ever, good...\n",
       "1    [great, game, better, cod, ive, played, first,...\n",
       "2    [right, im, going, play, row, starts, kings, q...\n",
       "3    [great, games, bad, theyre, delivered, via, mi...\n",
       "4    [one, games, makes, feel, like, bad, thoroughl...\n",
       "Name: review_cum, dtype: object"
      ]
     },
     "execution_count": 61,
     "metadata": {},
     "output_type": "execute_result"
    }
   ],
   "source": [
    "stop_words = set(stopwords.words('english')) \n",
    "\n",
    "#fonction permettant de mettre les mots en liste et de supprimer les stopwords\n",
    "def tokenise_and_delete_stop_words (text) :       \n",
    "    word_tokens = word_tokenize(text) \n",
    "    filtered_sentence = [w for w in word_tokens if w not in stop_words] \n",
    "    return filtered_sentence\n",
    "\n",
    "#la fonction est appliquée à toute les lignes \n",
    "reviews['review_cum']=reviews['review_cum'].apply(tokenise_and_delete_stop_words)\n",
    "reviews['review_cum'].head()"
   ]
  },
  {
   "cell_type": "code",
   "execution_count": 62,
   "metadata": {
    "scrolled": true
   },
   "outputs": [
    {
     "data": {
      "text/plain": [
       "(12, 410)"
      ]
     },
     "execution_count": 62,
     "metadata": {},
     "output_type": "execute_result"
    }
   ],
   "source": [
    "tfidf_transformer = TfidfVectorizer(analyzer = tokenise_and_delete_stop_words).fit(data['review_cum'])\n",
    "tfidf_data = tfidf_transformer.transform(data['review_cum'])\n",
    "tfidf_data.shape"
   ]
  },
  {
   "cell_type": "code",
   "execution_count": 64,
   "metadata": {},
   "outputs": [],
   "source": [
    "cosine_similarities = linear_kernel(tfidf_data, tfidf_data)"
   ]
  },
  {
   "cell_type": "code",
   "execution_count": 65,
   "metadata": {},
   "outputs": [
    {
     "data": {
      "text/plain": [
       "array([[1.        , 0.236776  , 0.01743275, 0.03501173, 0.11941339,\n",
       "        0.26620911, 0.02305937, 0.0073925 , 0.17926457, 0.22725636,\n",
       "        0.21346103, 0.        ],\n",
       "       [0.236776  , 1.        , 0.01628022, 0.06508   , 0.07354671,\n",
       "        0.23792314, 0.0208308 , 0.        , 0.1981084 , 0.20113081,\n",
       "        0.24784874, 0.        ],\n",
       "       [0.01743275, 0.01628022, 1.        , 0.        , 0.        ,\n",
       "        0.00740028, 0.        , 0.        , 0.05839597, 0.        ,\n",
       "        0.01644482, 0.        ],\n",
       "       [0.03501173, 0.06508   , 0.        , 1.        , 0.08083385,\n",
       "        0.        , 0.        , 0.02655565, 0.03068066, 0.02012276,\n",
       "        0.03194782, 0.        ],\n",
       "       [0.11941339, 0.07354671, 0.        , 0.08083385, 1.        ,\n",
       "        0.05515751, 0.        , 0.0226001 , 0.13162211, 0.06653828,\n",
       "        0.05478272, 0.        ],\n",
       "       [0.26620911, 0.23792314, 0.00740028, 0.        , 0.05515751,\n",
       "        1.        , 0.        , 0.00916503, 0.16474026, 0.15158189,\n",
       "        0.22550245, 0.        ],\n",
       "       [0.02305937, 0.0208308 , 0.        , 0.        , 0.        ,\n",
       "        0.        , 1.        , 0.        , 0.02175458, 0.        ,\n",
       "        0.02104142, 0.        ],\n",
       "       [0.0073925 , 0.        , 0.        , 0.02655565, 0.0226001 ,\n",
       "        0.00916503, 0.        , 1.        , 0.05396959, 0.        ,\n",
       "        0.0169288 , 0.        ],\n",
       "       [0.17926457, 0.1981084 , 0.05839597, 0.03068066, 0.13162211,\n",
       "        0.16474026, 0.02175458, 0.05396959, 1.        , 0.17635183,\n",
       "        0.13518126, 0.02303335],\n",
       "       [0.22725636, 0.20113081, 0.        , 0.02012276, 0.06653828,\n",
       "        0.15158189, 0.        , 0.        , 0.17635183, 1.        ,\n",
       "        0.14122664, 0.        ],\n",
       "       [0.21346103, 0.24784874, 0.01644482, 0.03194782, 0.05478272,\n",
       "        0.22550245, 0.02104142, 0.0169288 , 0.13518126, 0.14122664,\n",
       "        1.        , 0.08911306],\n",
       "       [0.        , 0.        , 0.        , 0.        , 0.        ,\n",
       "        0.        , 0.        , 0.        , 0.02303335, 0.        ,\n",
       "        0.08911306, 1.        ]])"
      ]
     },
     "execution_count": 65,
     "metadata": {},
     "output_type": "execute_result"
    }
   ],
   "source": [
    "cosine_similarities"
   ]
  },
  {
   "cell_type": "code",
   "execution_count": 85,
   "metadata": {},
   "outputs": [],
   "source": [
    "data1 = pd.DataFrame(cosine_similarities)"
   ]
  },
  {
   "cell_type": "code",
   "execution_count": 86,
   "metadata": {},
   "outputs": [],
   "source": [
    "data1.to_csv('tf_idf_cos.csv')"
   ]
  },
  {
   "cell_type": "code",
   "execution_count": 83,
   "metadata": {},
   "outputs": [],
   "source": [
    "def item(id):  \n",
    "  return reviews.loc[reviews['app_id'] == id]['app_name'].tolist()[0]  #itemid to name\n",
    "#Recommander les jeux les plus similaires\n",
    "def recommend(item_id, num):\n",
    "    print(\"Recommending \" + str(num) + \" products similar to \" + item(item_id) + \"...\")   \n",
    "    print(\"-------\")\n",
    "    idx = reviews[reviews[\"app_id\"]== item_id].index.tolist()[0] #itemid to index\n",
    "    similar_indices = cosine_similarities[idx].argsort()[::-1]  #sort the array in ascending order and return the index\n",
    "    for i in range(num): \n",
    "       print(\"Recommended: \" + item(reviews[\"app_id\"][similar_indices[i+1]]) + \" (score:\" +      str(cosine_similarities[idx][similar_indices[i+1]]) + \")\")"
   ]
  },
  {
   "cell_type": "code",
   "execution_count": 84,
   "metadata": {},
   "outputs": [
    {
     "name": "stdout",
     "output_type": "stream",
     "text": [
      "Recommending 2 products similar to Counter-Strike...\n",
      "-------\n",
      "Recommended: Call of Duty: Modern Warfare 2 (score:0.26620910544981524)\n",
      "Recommended: Call of Duty: World at War (score:0.23677600184678743)\n"
     ]
    }
   ],
   "source": [
    "recommend(item_id=10, num=2)"
   ]
  },
  {
   "cell_type": "code",
   "execution_count": null,
   "metadata": {},
   "outputs": [],
   "source": []
  }
 ],
 "metadata": {
  "kernelspec": {
   "display_name": "Python 3 (ipykernel)",
   "language": "python",
   "name": "python3"
  },
  "language_info": {
   "codemirror_mode": {
    "name": "ipython",
    "version": 3
   },
   "file_extension": ".py",
   "mimetype": "text/x-python",
   "name": "python",
   "nbconvert_exporter": "python",
   "pygments_lexer": "ipython3",
   "version": "3.9.12"
  }
 },
 "nbformat": 4,
 "nbformat_minor": 4
}
